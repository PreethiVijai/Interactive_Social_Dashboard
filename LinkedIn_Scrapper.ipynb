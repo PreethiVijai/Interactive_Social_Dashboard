{
 "cells": [
  {
   "cell_type": "code",
   "execution_count": 51,
   "metadata": {},
   "outputs": [],
   "source": [
    "from selenium import webdriver\n",
    "from selenium.common.exceptions import NoSuchElementException\n",
    "from selenium.webdriver.common.keys import Keys\n",
    "import pymongo\n",
    "import time"
   ]
  },
  {
   "cell_type": "code",
   "execution_count": 52,
   "metadata": {},
   "outputs": [],
   "source": [
    "#Setting login values for web scrapping and chromedriver path\n",
    "email = ''\n",
    "password = ''\n",
    "chrome_driver = ''\n",
    "file = open('variables.txt', 'r') \n",
    "lines = file.readlines()\n",
    "email = lines[0].split()[1].strip()\n",
    "pwd = lines[1].split()[1].strip()\n",
    "chrome_driver = lines[2].split()[1].strip()\n"
   ]
  },
  {
   "cell_type": "code",
   "execution_count": 76,
   "metadata": {},
   "outputs": [],
   "source": [
    "#Launch LinkedIn using chrome driver\n",
    "driver = webdriver.Chrome(chrome_driver)\n",
    "driver.get('https://www.linkedin.com/login?fromSignIn=true&trk=guest_homepage-basic_nav-header-signin')\n",
    "time.sleep(5)\n",
    "username_field = driver.find_element_by_xpath('/html/body/div[1]/main/div[2]/form/div[1]/input')\n",
    "time.sleep(1)\n",
    "username_field.send_keys(email)\n",
    "password = driver.find_element_by_xpath('/html/body/div[1]/main/div[2]/form/div[2]/input')\n",
    "time.sleep(1)\n",
    "password.send_keys(pwd)\n",
    "try:\n",
    "    sign_in_button = driver.find_element_by_xpath('/html/body/div[1]/main/div[2]/form/div[4]/button')\n",
    "    sign_in_button.click()\n",
    "except:\n",
    "    sign_in_button = driver.find_element_by_xpath('/html/body/div[1]/main/div[2]/form/div[3]/button')\n",
    "    sign_in_button.click()\n",
    "time.sleep(1)"
   ]
  },
  {
   "cell_type": "code",
   "execution_count": 87,
   "metadata": {},
   "outputs": [],
   "source": [
    "#Code to search for contents for a spectific company\n",
    "company_search = 'Oracle'\n",
    "content_input = driver.find_element_by_xpath('/html/body/header/div[1]/form/div[1]/div[1]/div[1]/div[1]/div[1]/div[1]/input')\n",
    "time.sleep(5)\n",
    "content_input.send_keys(company_search)\n",
    "content_input.send_keys(Keys.ENTER)\n",
    "time.sleep(5)\n",
    "content = driver.find_element_by_xpath('/html/body/div[8]/div[3]/div/div[1]/header/div/div/div[1]/ul/li[3]/button/span')\n",
    "content.click()\n",
    "time.sleep(5)\n",
    "date_posted = driver.find_element_by_xpath('/html/body/div[8]/div[3]/div/div[1]/header/div/div/div[2]/div/div/div/ul/li[2]/form/button/span')\n",
    "date_posted.click()\n",
    "time.sleep(5)\n",
    "one_day = driver.find_element_by_xpath('/html/body/div[8]/div[3]/div/div[1]/header/div/div/div[2]/div/div/div/ul/li[2]/form/div/fieldset/div/ul/li[1]/label/p/span')\n",
    "one_day.click()\n",
    "time.sleep(5)\n",
    "apply_button =  driver.find_element_by_xpath('/html/body/div[8]/div[3]/div/div[1]/header/div/div/div[2]/div/div/div/ul/li[2]/form/div/fieldset/div/div[1]/div[1]/button[2]/span')\n",
    "apply_button.click()\n",
    "time.sleep(5)\n",
    "\n",
    "\n"
   ]
  },
  {
   "cell_type": "code",
   "execution_count": null,
   "metadata": {},
   "outputs": [],
   "source": []
  }
 ],
 "metadata": {
  "kernelspec": {
   "display_name": "Python 3",
   "language": "python",
   "name": "python3"
  },
  "language_info": {
   "codemirror_mode": {
    "name": "ipython",
    "version": 3
   },
   "file_extension": ".py",
   "mimetype": "text/x-python",
   "name": "python",
   "nbconvert_exporter": "python",
   "pygments_lexer": "ipython3",
   "version": "3.7.3"
  }
 },
 "nbformat": 4,
 "nbformat_minor": 2
}

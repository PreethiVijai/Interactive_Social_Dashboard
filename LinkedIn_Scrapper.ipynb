{
 "cells": [
  {
   "cell_type": "code",
   "execution_count": 48,
   "metadata": {},
   "outputs": [],
   "source": [
    "from selenium import webdriver\n",
    "from selenium.common.exceptions import NoSuchElementException\n",
    "from selenium.webdriver.common.keys import Keys\n",
    "import pymongo\n",
    "import time"
   ]
  },
  {
   "cell_type": "code",
   "execution_count": 49,
   "metadata": {},
   "outputs": [
    {
     "name": "stdout",
     "output_type": "stream",
     "text": [
      "Priyanka#9\n"
     ]
    }
   ],
   "source": [
    "#Setting login values for web scrapping and chromedriver path\n",
    "email = ''\n",
    "password = ''\n",
    "chrome_driver = ''\n",
    "file = open('variables.txt', 'r') \n",
    "lines = file.readlines()\n",
    "email = lines[0].split()[1].strip()\n",
    "pwd = lines[1].split()[1].strip()\n",
    "chrome_driver = lines[2].split()[1].strip()\n"
   ]
  },
  {
   "cell_type": "code",
   "execution_count": 50,
   "metadata": {},
   "outputs": [],
   "source": [
    "#Launch LinkedIn using chrome driver\n",
    "driver = webdriver.Chrome(chrome_driver)\n",
    "driver.get('https://www.linkedin.com/login?fromSignIn=true&trk=guest_homepage-basic_nav-header-signin')\n",
    "time.sleep(5)\n",
    "username_field = driver.find_element_by_xpath('/html/body/div[1]/main/div[2]/form/div[1]/input')\n",
    "time.sleep(1)\n",
    "username_field.send_keys(email)\n",
    "password = driver.find_element_by_xpath('/html/body/div[1]/main/div[2]/form/div[2]/input')\n",
    "time.sleep(1)\n",
    "password.send_keys(pwd)\n",
    "sign_in_button = driver.find_element_by_xpath('/html/body/div[1]/main/div[2]/form/div[4]/button')\n",
    "sign_in_button.click()\n",
    "time.sleep(1)"
   ]
  },
  {
   "cell_type": "code",
   "execution_count": null,
   "metadata": {},
   "outputs": [],
   "source": []
  },
  {
   "cell_type": "code",
   "execution_count": null,
   "metadata": {},
   "outputs": [],
   "source": []
  }
 ],
 "metadata": {
  "kernelspec": {
   "display_name": "Python 3",
   "language": "python",
   "name": "python3"
  },
  "language_info": {
   "codemirror_mode": {
    "name": "ipython",
    "version": 3
   },
   "file_extension": ".py",
   "mimetype": "text/x-python",
   "name": "python",
   "nbconvert_exporter": "python",
   "pygments_lexer": "ipython3",
   "version": "3.7.3"
  }
 },
 "nbformat": 4,
 "nbformat_minor": 2
}
